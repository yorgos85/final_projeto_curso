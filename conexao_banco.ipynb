{
 "cells": [
  {
   "cell_type": "code",
   "execution_count": 1,
   "metadata": {},
   "outputs": [
    {
     "name": "stdout",
     "output_type": "stream",
     "text": [
      "Esta conectado\n"
     ]
    }
   ],
   "source": [
    "## Criando a coxexao ao banco\n",
    "\n",
    "import mysql.connector \n",
    "\n",
    "db = mysql.connector.connect(\n",
    "    host = 'localhost',\n",
    "    user = 'root',\n",
    "    password = 'admin123',\n",
    "    database = 'teste_db'\n",
    ")\n",
    "\n",
    "if db.is_connected:\n",
    "    print('Esta conectado')\n",
    "    \n",
    "else:\n",
    "    print('Falha na Conexao')  "
   ]
  }
 ],
 "metadata": {
  "interpreter": {
   "hash": "547bd9006f588c7cfbca0bf0c0d15ae66dcc908628e6da5e1501a77401c4bf78"
  },
  "kernelspec": {
   "display_name": "Python 3.10.9 ('base')",
   "language": "python",
   "name": "python3"
  },
  "language_info": {
   "codemirror_mode": {
    "name": "ipython",
    "version": 3
   },
   "file_extension": ".py",
   "mimetype": "text/x-python",
   "name": "python",
   "nbconvert_exporter": "python",
   "pygments_lexer": "ipython3",
   "version": "3.10.9"
  },
  "orig_nbformat": 4
 },
 "nbformat": 4,
 "nbformat_minor": 2
}
